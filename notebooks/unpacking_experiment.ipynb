{
 "cells": [
  {
   "cell_type": "code",
   "execution_count": 1,
   "metadata": {},
   "outputs": [],
   "source": [
    "import io\n",
    "import dis\n",
    "from timeit import timeit\n",
    "\n",
    "from loguru import logger"
   ]
  },
  {
   "cell_type": "code",
   "execution_count": 2,
   "metadata": {},
   "outputs": [],
   "source": [
    "def get_out_dims_2(signal_dim_with_kernel_dim: tuple[int, int]) -> int:\n",
    "    signal_dim, kernel_dim = signal_dim_with_kernel_dim\n",
    "    return signal_dim - kernel_dim + 1\n",
    "\n",
    "\n",
    "def get_out_dims(signal_dim_with_kernel_dim: tuple[int, int]) -> int:\n",
    "    return signal_dim_with_kernel_dim[0] - signal_dim_with_kernel_dim[1] + 1\n"
   ]
  },
  {
   "cell_type": "code",
   "execution_count": 3,
   "metadata": {},
   "outputs": [
    {
     "name": "stderr",
     "output_type": "stream",
     "text": [
      "\u001b[32m2025-05-22 12:35:28.067\u001b[0m | \u001b[34m\u001b[1mDEBUG   \u001b[0m | \u001b[36m__main__\u001b[0m:\u001b[36m<module>\u001b[0m:\u001b[36m4\u001b[0m - \u001b[34m\u001b[1m  1           RESUME                   0\n",
      "\n",
      "  2           LOAD_FAST                0 (signal_dim_with_kernel_dim)\n",
      "              UNPACK_SEQUENCE          2\n",
      "              STORE_FAST_STORE_FAST   18 (signal_dim, kernel_dim)\n",
      "\n",
      "  3           LOAD_FAST_LOAD_FAST     18 (signal_dim, kernel_dim)\n",
      "              BINARY_OP               10 (-)\n",
      "              LOAD_CONST               1 (1)\n",
      "              BINARY_OP                0 (+)\n",
      "              RETURN_VALUE\n",
      "\u001b[0m\n",
      "\u001b[32m2025-05-22 12:35:28.068\u001b[0m | \u001b[34m\u001b[1mDEBUG   \u001b[0m | \u001b[36m__main__\u001b[0m:\u001b[36m<module>\u001b[0m:\u001b[36m18\u001b[0m - \u001b[34m\u001b[1m  1           RESUME                   0\n",
      "\n",
      "  2           LOAD_FAST                0 (signal_dim_with_kernel_dim)\n",
      "              UNPACK_SEQUENCE          2\n",
      "              STORE_FAST_STORE_FAST   18 (signal_dim, kernel_dim)\n",
      "\n",
      "  3           LOAD_FAST_LOAD_FAST     18 (signal_dim, kernel_dim)\n",
      "              BINARY_OP               10 (-)\n",
      "              LOAD_CONST               1 (1)\n",
      "              BINARY_OP                0 (+)\n",
      "              RETURN_VALUE\n",
      "  6           RESUME                   0\n",
      "\n",
      "  7           LOAD_FAST                0 (signal_dim_with_kernel_dim)\n",
      "              LOAD_CONST               1 (0)\n",
      "              BINARY_SUBSCR\n",
      "              LOAD_FAST                0 (signal_dim_with_kernel_dim)\n",
      "              LOAD_CONST               2 (1)\n",
      "              BINARY_SUBSCR\n",
      "              BINARY_OP               10 (-)\n",
      "              LOAD_CONST               2 (1)\n",
      "              BINARY_OP                0 (+)\n",
      "              RETURN_VALUE\n",
      "\u001b[0m\n"
     ]
    },
    {
     "ename": "TypeError",
     "evalue": "'module' object is not callable. Did you mean: 'timeit.timeit(...)'?",
     "output_type": "error",
     "traceback": [
      "\u001b[31m---------------------------------------------------------------------------\u001b[39m",
      "\u001b[31mTypeError\u001b[39m                                 Traceback (most recent call last)",
      "\u001b[36mCell\u001b[39m\u001b[36m \u001b[39m\u001b[32mIn[3]\u001b[39m\u001b[32m, line 33\u001b[39m\n\u001b[32m     19\u001b[39m \u001b[38;5;66;03m# 11           RESUME                   0\u001b[39;00m\n\u001b[32m     20\u001b[39m \u001b[38;5;66;03m#\u001b[39;00m\n\u001b[32m     21\u001b[39m \u001b[38;5;66;03m# 12           LOAD_FAST                0 (signal_dim_with_kernel_dim)\u001b[39;00m\n\u001b[32m   (...)\u001b[39m\u001b[32m     29\u001b[39m \u001b[38;5;66;03m#              BINARY_OP                0 (+)\u001b[39;00m\n\u001b[32m     30\u001b[39m \u001b[38;5;66;03m#              RETURN_VALUE\u001b[39;00m\n\u001b[32m     31\u001b[39m \u001b[38;5;28;01mdel\u001b[39;00m buffer\n\u001b[32m---> \u001b[39m\u001b[32m33\u001b[39m logger.debug(\u001b[43mtimeit\u001b[49m\u001b[43m(\u001b[49m\u001b[33;43m\"\u001b[39;49m\u001b[33;43mget_out_dims_2((1,2))\u001b[39;49m\u001b[33;43m\"\u001b[39;49m\u001b[43m,\u001b[49m\u001b[43m \u001b[49m\u001b[38;5;28;43mglobals\u001b[39;49m\u001b[43m=\u001b[49m\u001b[38;5;28;43mglobals\u001b[39;49m\u001b[43m(\u001b[49m\u001b[43m)\u001b[49m\u001b[43m)\u001b[49m)  \u001b[38;5;66;03m# 0.06131675001233816\u001b[39;00m\n\u001b[32m     34\u001b[39m logger.debug(timeit(\u001b[33m\"\u001b[39m\u001b[33mget_out_dims((1,2))\u001b[39m\u001b[33m\"\u001b[39m, \u001b[38;5;28mglobals\u001b[39m=\u001b[38;5;28mglobals\u001b[39m()))  \u001b[38;5;66;03m# 0.0721085419645533\u001b[39;00m\n\u001b[32m     35\u001b[39m \u001b[38;5;66;03m# Not intuitive at all that dims_2 is faster\u001b[39;00m\n",
      "\u001b[31mTypeError\u001b[39m: 'module' object is not callable. Did you mean: 'timeit.timeit(...)'?"
     ]
    }
   ],
   "source": [
    "buffer = io.StringIO()\n",
    "dis.dis(get_out_dims_2, file=buffer)\n",
    "buffer.seek(0)\n",
    "logger.debug(buffer.read())\n",
    "# 6           RESUME                   0\n",
    "#\n",
    "# 7           LOAD_FAST                0 (signal_dim_with_kernel_dim)\n",
    "#             UNPACK_SEQUENCE          2\n",
    "#             STORE_FAST_STORE_FAST   18 (signal_dim, kernel_dim)\n",
    "#\n",
    "# 8           LOAD_FAST_LOAD_FAST     18 (signal_dim, kernel_dim)\n",
    "#             BINARY_OP               10 (-)\n",
    "#             LOAD_CONST               1 (1)\n",
    "#             BINARY_OP                0 (+)\n",
    "#             RETURN_VALUE\n",
    "dis.dis(get_out_dims, file=buffer)\n",
    "buffer.seek(0)\n",
    "logger.debug(buffer.read())\n",
    "# 11           RESUME                   0\n",
    "#\n",
    "# 12           LOAD_FAST                0 (signal_dim_with_kernel_dim)\n",
    "#              LOAD_CONST               1 (0)\n",
    "#              BINARY_SUBSCR\n",
    "#              LOAD_FAST                0 (signal_dim_with_kernel_dim)\n",
    "#              LOAD_CONST               2 (1)\n",
    "#              BINARY_SUBSCR\n",
    "#              BINARY_OP               10 (-)\n",
    "#              LOAD_CONST               2 (1)\n",
    "#              BINARY_OP                0 (+)\n",
    "#              RETURN_VALUE\n",
    "del buffer\n",
    "\n",
    "logger.debug(timeit(\"get_out_dims_2((1,2))\", globals=globals()))  # 0.06131675001233816\n",
    "logger.debug(timeit(\"get_out_dims((1,2))\", globals=globals()))  # 0.0721085419645533\n",
    "# Not intuitive at all that dims_2 is faster"
   ]
  }
 ],
 "metadata": {
  "kernelspec": {
   "display_name": ".venv",
   "language": "python",
   "name": "python3"
  },
  "language_info": {
   "codemirror_mode": {
    "name": "ipython",
    "version": 3
   },
   "file_extension": ".py",
   "mimetype": "text/x-python",
   "name": "python",
   "nbconvert_exporter": "python",
   "pygments_lexer": "ipython3",
   "version": "3.13.2"
  }
 },
 "nbformat": 4,
 "nbformat_minor": 2
}
